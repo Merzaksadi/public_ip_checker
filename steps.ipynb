{
 "cells": [
  {
   "attachments": {},
   "cell_type": "markdown",
   "metadata": {},
   "source": [
    "### Get Public IP"
   ]
  },
  {
   "cell_type": "code",
   "execution_count": null,
   "metadata": {},
   "outputs": [],
   "source": [
    "import requests\n",
    "from requests.exceptions import HTTPError\n",
    "\n",
    "try:\n",
    "    response = requests.get('https://api64.ipify.org?format=json')\n",
    "    jsonResponse = response.json()\n",
    "    ipresponse = jsonResponse[\"ip\"]\n",
    "    print(ipresponse)\n",
    "\n",
    "\n",
    "except HTTPError as http_err:\n",
    "    print(f'HTTP error occurred: {http_err}')"
   ]
  },
  {
   "attachments": {},
   "cell_type": "markdown",
   "metadata": {},
   "source": [
    "### PushBulet"
   ]
  },
  {
   "cell_type": "code",
   "execution_count": null,
   "metadata": {},
   "outputs": [],
   "source": [
    "from pushbullet import Pushbullet\n",
    "\n",
    "API_KEY = \"o.3SdXPspcryST1EKgXxC94JZ4bujrr4tp\"\n",
    "pb = Pushbullet(API_KEY)\n",
    "push = pb.push_note('IP Address has been changed', ipresponse)"
   ]
  },
  {
   "attachments": {},
   "cell_type": "markdown",
   "metadata": {},
   "source": [
    "### Email"
   ]
  },
  {
   "cell_type": "code",
   "execution_count": null,
   "metadata": {},
   "outputs": [],
   "source": [
    "import smtplib\n",
    "\n",
    "'''\n",
    "# Generates a line to be included in the email detailing what the IP has changed to - a new line for each change.\n",
    "email_content = []\n",
    "email_content.append(ipresponse)\n",
    "print('\\n'.join(email_content))\n",
    "\n",
    "# Send an email containing the info on the changes.\n",
    "print(\"Sending email containing the changes now......\")\n",
    "sendMail('\\n'.join(email_content))\n",
    "print(\"Email sent! Program will restart now.\")\n",
    "'''\n",
    "\n",
    "\n",
    "# This is the function that sends the email. Update the email addresses and SMTP server info to meet your needs.\n",
    "def sendMail(content):\n",
    "    sender = 'leraw57266@ozatvn.com'\n",
    "    receivers = ['merzak93@hotmail.com','sadimerzak@gmail.com']\n",
    "    SUBJECT = \"Public IP Update\"\n",
    "    TEXT = content\n",
    "    message = 'Subject: {}\\n\\n{}'.format(SUBJECT, TEXT)\n",
    "\n",
    "    try:\n",
    "        smtpObj = smtplib.SMTP_SSL('smtp.elasticemail.com', port=465)\n",
    "        smtpObj.connect(\"smtp.elasticemail.com\", port=465)\n",
    "        smtpObj.ehlo()\n",
    "        #smtpObj.starttls()\n",
    "        smtpObj.login(\"leraw57266@ozatvn.com\", \"passworD11\")\n",
    "        smtpObj.sendmail(sender, receivers, message)\n",
    "    except:\n",
    "        print(\"error\")"
   ]
  }
 ],
 "metadata": {
  "kernelspec": {
   "display_name": "env",
   "language": "python",
   "name": "python3"
  },
  "language_info": {
   "codemirror_mode": {
    "name": "ipython",
    "version": 3
   },
   "file_extension": ".py",
   "mimetype": "text/x-python",
   "name": "python",
   "nbconvert_exporter": "python",
   "pygments_lexer": "ipython3",
   "version": "3.10.2"
  },
  "orig_nbformat": 4
 },
 "nbformat": 4,
 "nbformat_minor": 2
}
